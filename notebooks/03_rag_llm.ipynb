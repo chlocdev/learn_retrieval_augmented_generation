{
 "cells": [
  {
   "cell_type": "code",
   "execution_count": 2,
   "id": "1d6fb27b-a0d5-4c98-b3c3-ce9a0149815a",
   "metadata": {},
   "outputs": [],
   "source": [
    "# import data\n",
    "import pandas as pd\n",
    "\n",
    "df = pd.read_csv('../top_rated_wines.csv')\n",
    "\n",
    "df = df[df['variety'].notna()]\n",
    "\n",
    "data = df.to_dict('records')"
   ]
  },
  {
   "cell_type": "code",
   "execution_count": 3,
   "id": "908eab39-8179-469b-a412-7833a2bd320d",
   "metadata": {},
   "outputs": [
    {
     "data": {
      "text/plain": [
       "UpdateResult(operation_id=0, status=<UpdateStatus.COMPLETED: 'completed'>)"
      ]
     },
     "execution_count": 3,
     "metadata": {},
     "output_type": "execute_result"
    }
   ],
   "source": [
    "from qdrant_client import models, QdrantClient\n",
    "from sentence_transformers import SentenceTransformer\n",
    "\n",
    "# create database vector\n",
    "# Load the model to create embeddings\n",
    "encoder = SentenceTransformer('all-MiniLM-L6-v2')\n",
    "\n",
    "# create the vector database client\n",
    "qdrant = QdrantClient(\":memory:\") # create in-memory Qdrant instance\n",
    "\n",
    "# create vector config\n",
    "vector_config = models.VectorParams(\n",
    "    size = encoder.get_sentence_embedding_dimension(), # Vector size is defined by used model\n",
    "    distance = models.Distance.COSINE\n",
    ")\n",
    "\n",
    "# create collection to store books\n",
    "qdrant.recreate_collection(\n",
    "    collection_name = 'top_wines',\n",
    "    vectors_config = vector_config\n",
    ")\n",
    "\n",
    "# vectorize!\n",
    "qdrant.upsert(\n",
    "    collection_name='top_wines',\n",
    "    points = [ models.PointStruct(id = idx,\n",
    "                                  vector = encoder.encode(doc['notes']).tolist(), \n",
    "                                  payload = doc\n",
    "                                 ) \n",
    "              for idx, doc in enumerate(data) ]\n",
    ")"
   ]
  },
  {
   "cell_type": "code",
   "execution_count": 9,
   "id": "a5f60b66-8a37-4cca-9c9c-3f0eef363398",
   "metadata": {},
   "outputs": [
    {
     "name": "stdout",
     "output_type": "stream",
     "text": [
      "{'name': 'Catena Zapata Argentino Vineyard Malbec 2004', 'region': 'Argentina', 'variety': 'Red Wine', 'rating': 98.0, 'notes': '\"The single-vineyard 2004 Malbec Argentino Vineyard spent 17 months in new French oak. Remarkably fragrant and complex aromatically, it offers up aromas of wood smoke, creosote, pepper, clove, black cherry, and blackberry. Made in a similar, elegant style, it is the most structured of the three single vineyard wines, needing a minimum of a decade of additional cellaring. It should easily prove to be a 25-40 year wine. It is an exceptional achievement in Malbec. When all is said and done, Catena Zapata is the Argentina winery of reference – the standard of excellence for comparing all others. The brilliant, forward-thinking Nicolas Catena remains in charge, with his daughter, Laura, playing an increasingly large role. The Catena Zapata winery is an essential destination for fans of both architecture and wine in Mendoza. It is hard to believe, given the surge in popularity of Malbec in recent years, that Catena Zapata only began exporting Malbec to the United States in 1994.\"'} score: 0.6377782168187803 \n",
      "\n",
      "{'name': 'Bodega Colome Altura Maxima Malbec 2012', 'region': 'Salta, Argentina', 'variety': 'Red Wine', 'rating': 96.0, 'notes': 'Winemaker Thibaut Delmotte has crafted wines of distinction and international acclaim for Colome. He believes the Malbec from Altura Maxima Vineyard is the embodiment of two extremes - a traditional grape variety from his French origins made from the vineyard that challenges all convention in the modern viticultural world.'} score: 0.6179681996994989 \n",
      "\n",
      "{'name': 'Catena Zapata Adrianna Vineyard Malbec 2004', 'region': 'Argentina', 'variety': 'Red Wine', 'rating': 97.0, 'notes': '\"The single-vineyard 2004 Malbec Adrianna Vineyard from the Gualtallary district is inky purple with aromas of wood smoke, pencil lead, game, black cherry, and blackberry liqueur. Opulent, full-flavored, yet remarkably light on its feet, this medium to full-bodied Malbec is all about pleasure. It will certainly evolve for a decade but is hard to resist now. It is a fine test of one\\'s ability to defer immediate gratification. When all is said and done, Catena Zapata is the Argentina winery of reference – the standard of excellence for comparing all others. The brilliant, forward-thinking Nicolas Catena remains in charge, with his daughter, Laura, playing an increasingly large role. The Catena Zapata winery is an essential destination for fans of both architecture and wine in Mendoza. It is hard to believe, given the surge in popularity of Malbec in recent years, that Catena Zapata only began exporting Malbec to the United States in 1994.\"'} score: 0.6117573470593063 \n",
      "\n"
     ]
    }
   ],
   "source": [
    "# Searching\n",
    "user_prompt = \"Suggest me an amazing Malbec wine from Argentina\"\n",
    "\n",
    "hits = qdrant.search(\n",
    "    collection_name = 'top_wines',\n",
    "    query_vector = encoder.encode(user_prompt).tolist(),\n",
    "    limit=3\n",
    ")\n",
    "\n",
    "for hit in hits:\n",
    "    print(hit.payload,'score:',hit.score,'\\n')"
   ]
  },
  {
   "cell_type": "code",
   "execution_count": 10,
   "id": "534d96e7-ec86-4619-9a13-408dbe6cf681",
   "metadata": {},
   "outputs": [],
   "source": [
    "# define a variable to hold the searching results\n",
    "search_results = [hit.payload for hit in hits]"
   ]
  },
  {
   "cell_type": "code",
   "execution_count": 14,
   "id": "99808973-130d-478d-bf0a-9e6334119375",
   "metadata": {},
   "outputs": [],
   "source": [
    "import os\n",
    "from openai import OpenAI"
   ]
  },
  {
   "cell_type": "code",
   "execution_count": 18,
   "id": "6b8d5f09-7066-4d2b-90c9-ef98922126a3",
   "metadata": {},
   "outputs": [],
   "source": [
    "# load OPENAI_API_KEY\n",
    "OPENAI_API_KEY_PATH = '/home/loc/Documents/OPENAI_API_KEY.txt'\n",
    "\n",
    "with open(OPENAI_API_KEY_PATH) as f:\n",
    "    OPENAI_API_KEY = f.read().strip()\n",
    "# print(OPENAI_API_KEY)"
   ]
  },
  {
   "cell_type": "code",
   "execution_count": 19,
   "id": "7b4226c1-28bd-4b58-809e-6fd290f27419",
   "metadata": {},
   "outputs": [
    {
     "name": "stdout",
     "output_type": "stream",
     "text": [
      "ChatCompletionMessage(content='I would recommend the Catena Zapata Argentino Vineyard Malbec 2004 from Argentina. This wine has a rating of 98.0 and is highly acclaimed for its complexity and elegance. It offers aromas of wood smoke, black cherry, blackberry, and more. It is structured and will benefit from additional cellaring, making it a wine that can age beautifully for 25-40 years. Catena Zapata is a renowned winery in Argentina, known for producing exceptional Malbec wines.', role='assistant', function_call=None, tool_calls=None)\n"
     ]
    }
   ],
   "source": [
    "# Now time to connect to the local large language model\n",
    "\n",
    "# client = OpenAI(\n",
    "#     base_url = 'http://127.0.0.1:8080/v1',# http://<your_api_server_ip>:port\n",
    "#     api_key = \"sk-no-key-required\"\n",
    "# )\n",
    "\n",
    "client = OpenAI(\n",
    "    api_key = OPENAI_API_KEY\n",
    ")\n",
    "\n",
    "completion = client.chat.completions.create(\n",
    "    model = \"gpt-3.5-turbo\",\n",
    "    messages = [\n",
    "        {\"role\":\"system\",\"content\":\"You are chatbot, a wine specialist, Your top priority is to help the customer select wine\"},\n",
    "        {\"role\":\"system\",\"content\":user_prompt},\n",
    "        {\"role\":\"system\",\"content\":str(search_results)}\n",
    "    ]\n",
    ")\n",
    "\n",
    "print(completion.choices[0].message)"
   ]
  },
  {
   "cell_type": "code",
   "execution_count": 20,
   "id": "b76ec89c-b447-42d9-846b-dc6ea8d3e497",
   "metadata": {},
   "outputs": [
    {
     "data": {
      "text/plain": [
       "ChatCompletion(id='chatcmpl-9U3wNUuq3Y0zNsqFnQmPAQEP1R0Z4', choices=[Choice(finish_reason='stop', index=0, logprobs=None, message=ChatCompletionMessage(content='I would recommend the Catena Zapata Argentino Vineyard Malbec 2004 from Argentina. This wine has a rating of 98.0 and is highly acclaimed for its complexity and elegance. It offers aromas of wood smoke, black cherry, blackberry, and more. It is structured and will benefit from additional cellaring, making it a wine that can age beautifully for 25-40 years. Catena Zapata is a renowned winery in Argentina, known for producing exceptional Malbec wines.', role='assistant', function_call=None, tool_calls=None))], created=1716952015, model='gpt-3.5-turbo-0125', object='chat.completion', system_fingerprint=None, usage=CompletionUsage(completion_tokens=104, prompt_tokens=684, total_tokens=788))"
      ]
     },
     "execution_count": 20,
     "metadata": {},
     "output_type": "execute_result"
    }
   ],
   "source": [
    "completion"
   ]
  },
  {
   "cell_type": "code",
   "execution_count": 21,
   "id": "a0fb25e7-6a7b-4b0e-893f-384f5b0a5783",
   "metadata": {},
   "outputs": [
    {
     "data": {
      "text/plain": [
       "'I would recommend the Catena Zapata Argentino Vineyard Malbec 2004 from Argentina. This wine has a rating of 98.0 and is highly acclaimed for its complexity and elegance. It offers aromas of wood smoke, black cherry, blackberry, and more. It is structured and will benefit from additional cellaring, making it a wine that can age beautifully for 25-40 years. Catena Zapata is a renowned winery in Argentina, known for producing exceptional Malbec wines.'"
      ]
     },
     "execution_count": 21,
     "metadata": {},
     "output_type": "execute_result"
    }
   ],
   "source": [
    "completion.choices[0].message.content"
   ]
  },
  {
   "cell_type": "code",
   "execution_count": null,
   "id": "3e0dc65f-3448-4ab0-b559-1abe68c68a86",
   "metadata": {},
   "outputs": [],
   "source": []
  }
 ],
 "metadata": {
  "kernelspec": {
   "display_name": "Python 3 (ipykernel)",
   "language": "python",
   "name": "python3"
  },
  "language_info": {
   "codemirror_mode": {
    "name": "ipython",
    "version": 3
   },
   "file_extension": ".py",
   "mimetype": "text/x-python",
   "name": "python",
   "nbconvert_exporter": "python",
   "pygments_lexer": "ipython3",
   "version": "3.8.19"
  }
 },
 "nbformat": 4,
 "nbformat_minor": 5
}
