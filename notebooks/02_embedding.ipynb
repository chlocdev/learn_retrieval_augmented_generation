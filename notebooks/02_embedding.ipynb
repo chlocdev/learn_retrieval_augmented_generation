{
 "cells": [
  {
   "cell_type": "code",
   "execution_count": 1,
   "id": "cac5f140-bcad-4b76-9305-d7008bc080c3",
   "metadata": {},
   "outputs": [
    {
     "data": {
      "text/html": [
       "<div>\n",
       "<style scoped>\n",
       "    .dataframe tbody tr th:only-of-type {\n",
       "        vertical-align: middle;\n",
       "    }\n",
       "\n",
       "    .dataframe tbody tr th {\n",
       "        vertical-align: top;\n",
       "    }\n",
       "\n",
       "    .dataframe thead th {\n",
       "        text-align: right;\n",
       "    }\n",
       "</style>\n",
       "<table border=\"1\" class=\"dataframe\">\n",
       "  <thead>\n",
       "    <tr style=\"text-align: right;\">\n",
       "      <th></th>\n",
       "      <th>name</th>\n",
       "      <th>region</th>\n",
       "      <th>variety</th>\n",
       "      <th>rating</th>\n",
       "      <th>notes</th>\n",
       "    </tr>\n",
       "  </thead>\n",
       "  <tbody>\n",
       "    <tr>\n",
       "      <th>0</th>\n",
       "      <td>3 Rings Reserve Shiraz 2004</td>\n",
       "      <td>Barossa Valley, Barossa, South Australia, Aust...</td>\n",
       "      <td>Red Wine</td>\n",
       "      <td>96.0</td>\n",
       "      <td>Vintage Comments : Classic Barossa vintage con...</td>\n",
       "    </tr>\n",
       "    <tr>\n",
       "      <th>1</th>\n",
       "      <td>Abreu Vineyards Cappella 2007</td>\n",
       "      <td>Napa Valley, California</td>\n",
       "      <td>Red Wine</td>\n",
       "      <td>96.0</td>\n",
       "      <td>Cappella is a proprietary blend of two clones ...</td>\n",
       "    </tr>\n",
       "    <tr>\n",
       "      <th>2</th>\n",
       "      <td>Abreu Vineyards Cappella 2010</td>\n",
       "      <td>Napa Valley, California</td>\n",
       "      <td>Red Wine</td>\n",
       "      <td>98.0</td>\n",
       "      <td>Cappella is one of the oldest vineyard sites i...</td>\n",
       "    </tr>\n",
       "    <tr>\n",
       "      <th>3</th>\n",
       "      <td>Abreu Vineyards Howell Mountain 2008</td>\n",
       "      <td>Howell Mountain, Napa Valley, California</td>\n",
       "      <td>Red Wine</td>\n",
       "      <td>96.0</td>\n",
       "      <td>When David purchased this Howell Mountain prop...</td>\n",
       "    </tr>\n",
       "    <tr>\n",
       "      <th>4</th>\n",
       "      <td>Abreu Vineyards Howell Mountain 2009</td>\n",
       "      <td>Howell Mountain, Napa Valley, California</td>\n",
       "      <td>Red Wine</td>\n",
       "      <td>98.0</td>\n",
       "      <td>As a set of wines, it is hard to surpass the f...</td>\n",
       "    </tr>\n",
       "  </tbody>\n",
       "</table>\n",
       "</div>"
      ],
      "text/plain": [
       "                                   name  \\\n",
       "0           3 Rings Reserve Shiraz 2004   \n",
       "1         Abreu Vineyards Cappella 2007   \n",
       "2         Abreu Vineyards Cappella 2010   \n",
       "3  Abreu Vineyards Howell Mountain 2008   \n",
       "4  Abreu Vineyards Howell Mountain 2009   \n",
       "\n",
       "                                              region   variety  rating  \\\n",
       "0  Barossa Valley, Barossa, South Australia, Aust...  Red Wine    96.0   \n",
       "1                            Napa Valley, California  Red Wine    96.0   \n",
       "2                            Napa Valley, California  Red Wine    98.0   \n",
       "3           Howell Mountain, Napa Valley, California  Red Wine    96.0   \n",
       "4           Howell Mountain, Napa Valley, California  Red Wine    98.0   \n",
       "\n",
       "                                               notes  \n",
       "0  Vintage Comments : Classic Barossa vintage con...  \n",
       "1  Cappella is a proprietary blend of two clones ...  \n",
       "2  Cappella is one of the oldest vineyard sites i...  \n",
       "3  When David purchased this Howell Mountain prop...  \n",
       "4  As a set of wines, it is hard to surpass the f...  "
      ]
     },
     "execution_count": 1,
     "metadata": {},
     "output_type": "execute_result"
    }
   ],
   "source": [
    "# Import data\n",
    "import pandas as pd\n",
    "\n",
    "df = pd.read_csv('../top_rated_wines.csv')\n",
    "\n",
    "df.head()"
   ]
  },
  {
   "cell_type": "code",
   "execution_count": 3,
   "id": "04510ddb-9540-42eb-bbc7-aa2231b305a8",
   "metadata": {},
   "outputs": [
    {
     "name": "stdout",
     "output_type": "stream",
     "text": [
      "<class 'pandas.core.frame.DataFrame'>\n",
      "RangeIndex: 1365 entries, 0 to 1364\n",
      "Data columns (total 5 columns):\n",
      " #   Column   Non-Null Count  Dtype  \n",
      "---  ------   --------------  -----  \n",
      " 0   name     1365 non-null   object \n",
      " 1   region   1364 non-null   object \n",
      " 2   variety  1347 non-null   object \n",
      " 3   rating   1365 non-null   float64\n",
      " 4   notes    1365 non-null   object \n",
      "dtypes: float64(1), object(4)\n",
      "memory usage: 53.4+ KB\n"
     ]
    }
   ],
   "source": [
    "df.info()"
   ]
  },
  {
   "cell_type": "code",
   "execution_count": 4,
   "id": "e9ee1c43-f8cb-4336-bc82-278e6b24c4f6",
   "metadata": {},
   "outputs": [
    {
     "name": "stderr",
     "output_type": "stream",
     "text": [
      "/tmp/ipykernel_8260/4284288122.py:3: FutureWarning: Using short name for 'orient' is deprecated. Only the options: ('dict', list, 'series', 'split', 'records', 'index') will be used in a future version. Use one of the above to silence this warning.\n",
      "  data = df.to_dict('record')\n"
     ]
    },
    {
     "data": {
      "text/html": [
       "<div>\n",
       "<style scoped>\n",
       "    .dataframe tbody tr th:only-of-type {\n",
       "        vertical-align: middle;\n",
       "    }\n",
       "\n",
       "    .dataframe tbody tr th {\n",
       "        vertical-align: top;\n",
       "    }\n",
       "\n",
       "    .dataframe thead th {\n",
       "        text-align: right;\n",
       "    }\n",
       "</style>\n",
       "<table border=\"1\" class=\"dataframe\">\n",
       "  <thead>\n",
       "    <tr style=\"text-align: right;\">\n",
       "      <th></th>\n",
       "      <th>name</th>\n",
       "      <th>region</th>\n",
       "      <th>variety</th>\n",
       "      <th>rating</th>\n",
       "      <th>notes</th>\n",
       "    </tr>\n",
       "  </thead>\n",
       "  <tbody>\n",
       "    <tr>\n",
       "      <th>0</th>\n",
       "      <td>3 Rings Reserve Shiraz 2004</td>\n",
       "      <td>Barossa Valley, Barossa, South Australia, Aust...</td>\n",
       "      <td>Red Wine</td>\n",
       "      <td>96.0</td>\n",
       "      <td>Vintage Comments : Classic Barossa vintage con...</td>\n",
       "    </tr>\n",
       "    <tr>\n",
       "      <th>1</th>\n",
       "      <td>Abreu Vineyards Cappella 2007</td>\n",
       "      <td>Napa Valley, California</td>\n",
       "      <td>Red Wine</td>\n",
       "      <td>96.0</td>\n",
       "      <td>Cappella is a proprietary blend of two clones ...</td>\n",
       "    </tr>\n",
       "    <tr>\n",
       "      <th>2</th>\n",
       "      <td>Abreu Vineyards Cappella 2010</td>\n",
       "      <td>Napa Valley, California</td>\n",
       "      <td>Red Wine</td>\n",
       "      <td>98.0</td>\n",
       "      <td>Cappella is one of the oldest vineyard sites i...</td>\n",
       "    </tr>\n",
       "    <tr>\n",
       "      <th>3</th>\n",
       "      <td>Abreu Vineyards Howell Mountain 2008</td>\n",
       "      <td>Howell Mountain, Napa Valley, California</td>\n",
       "      <td>Red Wine</td>\n",
       "      <td>96.0</td>\n",
       "      <td>When David purchased this Howell Mountain prop...</td>\n",
       "    </tr>\n",
       "    <tr>\n",
       "      <th>4</th>\n",
       "      <td>Abreu Vineyards Howell Mountain 2009</td>\n",
       "      <td>Howell Mountain, Napa Valley, California</td>\n",
       "      <td>Red Wine</td>\n",
       "      <td>98.0</td>\n",
       "      <td>As a set of wines, it is hard to surpass the f...</td>\n",
       "    </tr>\n",
       "  </tbody>\n",
       "</table>\n",
       "</div>"
      ],
      "text/plain": [
       "                                   name  \\\n",
       "0           3 Rings Reserve Shiraz 2004   \n",
       "1         Abreu Vineyards Cappella 2007   \n",
       "2         Abreu Vineyards Cappella 2010   \n",
       "3  Abreu Vineyards Howell Mountain 2008   \n",
       "4  Abreu Vineyards Howell Mountain 2009   \n",
       "\n",
       "                                              region   variety  rating  \\\n",
       "0  Barossa Valley, Barossa, South Australia, Aust...  Red Wine    96.0   \n",
       "1                            Napa Valley, California  Red Wine    96.0   \n",
       "2                            Napa Valley, California  Red Wine    98.0   \n",
       "3           Howell Mountain, Napa Valley, California  Red Wine    96.0   \n",
       "4           Howell Mountain, Napa Valley, California  Red Wine    98.0   \n",
       "\n",
       "                                               notes  \n",
       "0  Vintage Comments : Classic Barossa vintage con...  \n",
       "1  Cappella is a proprietary blend of two clones ...  \n",
       "2  Cappella is one of the oldest vineyard sites i...  \n",
       "3  When David purchased this Howell Mountain prop...  \n",
       "4  As a set of wines, it is hard to surpass the f...  "
      ]
     },
     "execution_count": 4,
     "metadata": {},
     "output_type": "execute_result"
    }
   ],
   "source": [
    "# remove any NaN values as it blows up serialization\n",
    "df = df[df['variety'].notna()]\n",
    "data = df.to_dict('records')\n",
    "df.head()"
   ]
  },
  {
   "cell_type": "code",
   "execution_count": 6,
   "id": "a88b0edd-2645-4b9a-aed1-719c8f0f29f1",
   "metadata": {},
   "outputs": [],
   "source": [
    "from qdrant_client import models, QdrantClient\n",
    "from sentence_transformers import SentenceTransformer"
   ]
  },
  {
   "cell_type": "code",
   "execution_count": 7,
   "id": "50edf2ca-0a2b-4067-9b64-25702ae8bb8e",
   "metadata": {},
   "outputs": [
    {
     "data": {
      "application/vnd.jupyter.widget-view+json": {
       "model_id": "01ed2f3551a241c198ecdb662c1643c6",
       "version_major": 2,
       "version_minor": 0
      },
      "text/plain": [
       ".gitattributes:   0%|          | 0.00/1.23k [00:00<?, ?B/s]"
      ]
     },
     "metadata": {},
     "output_type": "display_data"
    },
    {
     "data": {
      "application/vnd.jupyter.widget-view+json": {
       "model_id": "6c1361d09bf5431e8284efc77ba1e433",
       "version_major": 2,
       "version_minor": 0
      },
      "text/plain": [
       "1_Pooling/config.json:   0%|          | 0.00/190 [00:00<?, ?B/s]"
      ]
     },
     "metadata": {},
     "output_type": "display_data"
    },
    {
     "data": {
      "application/vnd.jupyter.widget-view+json": {
       "model_id": "ccf97c3acbb54d8387e18dea0f973c3e",
       "version_major": 2,
       "version_minor": 0
      },
      "text/plain": [
       "README.md:   0%|          | 0.00/10.7k [00:00<?, ?B/s]"
      ]
     },
     "metadata": {},
     "output_type": "display_data"
    },
    {
     "data": {
      "application/vnd.jupyter.widget-view+json": {
       "model_id": "5303dd9d0ad945de9beb3aa46d1d4eb1",
       "version_major": 2,
       "version_minor": 0
      },
      "text/plain": [
       "config.json:   0%|          | 0.00/612 [00:00<?, ?B/s]"
      ]
     },
     "metadata": {},
     "output_type": "display_data"
    },
    {
     "data": {
      "application/vnd.jupyter.widget-view+json": {
       "model_id": "5b0035ba6f2d46bbad82e4e0c110bbdb",
       "version_major": 2,
       "version_minor": 0
      },
      "text/plain": [
       "config_sentence_transformers.json:   0%|          | 0.00/116 [00:00<?, ?B/s]"
      ]
     },
     "metadata": {},
     "output_type": "display_data"
    },
    {
     "data": {
      "application/vnd.jupyter.widget-view+json": {
       "model_id": "ffe6ddb84fc743589cf336aac2ab1032",
       "version_major": 2,
       "version_minor": 0
      },
      "text/plain": [
       "data_config.json:   0%|          | 0.00/39.3k [00:00<?, ?B/s]"
      ]
     },
     "metadata": {},
     "output_type": "display_data"
    },
    {
     "data": {
      "application/vnd.jupyter.widget-view+json": {
       "model_id": "35b94468be4c41cdb4419de86e9cbeb4",
       "version_major": 2,
       "version_minor": 0
      },
      "text/plain": [
       "model.safetensors:   0%|          | 0.00/90.9M [00:00<?, ?B/s]"
      ]
     },
     "metadata": {},
     "output_type": "display_data"
    },
    {
     "data": {
      "application/vnd.jupyter.widget-view+json": {
       "model_id": "a014bdeff4084df784da5186d7797c72",
       "version_major": 2,
       "version_minor": 0
      },
      "text/plain": [
       "pytorch_model.bin:   0%|          | 0.00/90.9M [00:00<?, ?B/s]"
      ]
     },
     "metadata": {},
     "output_type": "display_data"
    },
    {
     "data": {
      "application/vnd.jupyter.widget-view+json": {
       "model_id": "b92fd8428ffa483caa3156303dbe6b5b",
       "version_major": 2,
       "version_minor": 0
      },
      "text/plain": [
       "sentence_bert_config.json:   0%|          | 0.00/53.0 [00:00<?, ?B/s]"
      ]
     },
     "metadata": {},
     "output_type": "display_data"
    },
    {
     "data": {
      "application/vnd.jupyter.widget-view+json": {
       "model_id": "cfc8342c199b4d60b4bccc21248a0988",
       "version_major": 2,
       "version_minor": 0
      },
      "text/plain": [
       "special_tokens_map.json:   0%|          | 0.00/112 [00:00<?, ?B/s]"
      ]
     },
     "metadata": {},
     "output_type": "display_data"
    },
    {
     "data": {
      "application/vnd.jupyter.widget-view+json": {
       "model_id": "adbbc577889748e7ad5bee5c66f805d5",
       "version_major": 2,
       "version_minor": 0
      },
      "text/plain": [
       "tokenizer.json:   0%|          | 0.00/466k [00:00<?, ?B/s]"
      ]
     },
     "metadata": {},
     "output_type": "display_data"
    },
    {
     "data": {
      "application/vnd.jupyter.widget-view+json": {
       "model_id": "e332639fe8944e9d98f89ac7fb5c0914",
       "version_major": 2,
       "version_minor": 0
      },
      "text/plain": [
       "tokenizer_config.json:   0%|          | 0.00/350 [00:00<?, ?B/s]"
      ]
     },
     "metadata": {},
     "output_type": "display_data"
    },
    {
     "data": {
      "application/vnd.jupyter.widget-view+json": {
       "model_id": "24d5ece3e6324ea78d7409619e7b9e62",
       "version_major": 2,
       "version_minor": 0
      },
      "text/plain": [
       "train_script.py:   0%|          | 0.00/13.2k [00:00<?, ?B/s]"
      ]
     },
     "metadata": {},
     "output_type": "display_data"
    },
    {
     "data": {
      "application/vnd.jupyter.widget-view+json": {
       "model_id": "bcebd182d88348668f6e76297c275be6",
       "version_major": 2,
       "version_minor": 0
      },
      "text/plain": [
       "vocab.txt:   0%|          | 0.00/232k [00:00<?, ?B/s]"
      ]
     },
     "metadata": {},
     "output_type": "display_data"
    },
    {
     "data": {
      "application/vnd.jupyter.widget-view+json": {
       "model_id": "27bcc78d0da54447befe00210d8c9574",
       "version_major": 2,
       "version_minor": 0
      },
      "text/plain": [
       "modules.json:   0%|          | 0.00/349 [00:00<?, ?B/s]"
      ]
     },
     "metadata": {},
     "output_type": "display_data"
    }
   ],
   "source": [
    "# Load the model to create embeddings\n",
    "# .cache/torch/sentence_transformers/sentence-transformers_all-MiniLM-L6-v2/\n",
    "encoder = SentenceTransformer('all-MiniLM-L6-v2')"
   ]
  },
  {
   "cell_type": "code",
   "execution_count": 8,
   "id": "24f4a52d-425f-4275-b92f-ba8d19c5120e",
   "metadata": {},
   "outputs": [],
   "source": [
    "# create the vector database client\n",
    "qdrant = QdrantClient(\":memory:\") # create in-memory Qdrant instance"
   ]
  },
  {
   "cell_type": "code",
   "execution_count": 10,
   "id": "82ad9184-f2e5-4a99-8014-98cfc5cf1bb5",
   "metadata": {},
   "outputs": [
    {
     "data": {
      "text/plain": [
       "True"
      ]
     },
     "execution_count": 10,
     "metadata": {},
     "output_type": "execute_result"
    }
   ],
   "source": [
    "# create vector config\n",
    "vector_config = models.VectorParams(\n",
    "    size = encoder.get_sentence_embedding_dimension(), # Vector size is defined by used model\n",
    "    distance = models.Distance.COSINE\n",
    ")\n",
    "\n",
    "# create collection to store books\n",
    "qdrant.recreate_collection(\n",
    "    collection_name = 'top_wines',\n",
    "    vectors_config = vector_config\n",
    ")"
   ]
  },
  {
   "cell_type": "code",
   "execution_count": 18,
   "id": "fc108b16-49d6-4c30-bae2-b94a4cbfb05d",
   "metadata": {},
   "outputs": [
    {
     "name": "stdout",
     "output_type": "stream",
     "text": [
      "Vintage Comments : Classic Barossa vintage conditions. An average wet Spring followed by extreme heat in early February. Occasional rainfall events kept the vines in good balance up to harvest in late March 2004. Very good quality coupled with good average yields. More than 30 months in wood followed by six months tank maturation of the blend prior to bottling, July 2007. \n",
      "[-5.20038866e-02  2.14480162e-02  4.04233225e-02  4.26626727e-02\n",
      " -9.58252996e-02 -2.90006083e-02 -8.80133584e-02 -1.84591692e-02\n",
      " -8.99091437e-02  4.50307690e-02  6.64311287e-04 -3.42001766e-02\n",
      "  9.54557396e-03  6.31257445e-02 -1.40816849e-02 -3.03313211e-02\n",
      "  4.93896715e-02 -1.44043639e-01 -2.13793907e-02 -3.18222446e-03\n",
      "  3.68515812e-02 -4.31906199e-03 -1.46433134e-02  6.09905971e-03\n",
      "  8.33442658e-02 -5.51948659e-02 -6.00770526e-02  4.38864529e-02\n",
      "  1.00697294e-01  1.32786371e-02  2.35872976e-02  8.34999681e-02\n",
      "  3.42347212e-02 -4.39797379e-02  2.32254099e-02 -6.17142208e-02\n",
      "  3.71921510e-02 -9.25690159e-02 -7.11837690e-03  7.37292171e-02\n",
      " -3.82114053e-02  3.49464864e-02 -9.33476817e-03  6.95101172e-02\n",
      " -9.73642990e-03  1.15218759e-02  3.08230892e-03  3.19355465e-02\n",
      "  2.32226532e-02  5.91658382e-03 -1.03133041e-02 -7.64521435e-02\n",
      " -8.02903250e-03 -9.14946198e-02 -3.26111987e-02 -2.33334024e-02\n",
      " -4.28085215e-02  2.09452305e-02  5.98872341e-02  3.19358371e-02\n",
      "  4.25776951e-02  4.61592674e-02 -1.20246291e-01 -8.10230616e-03\n",
      "  1.53375110e-02 -4.07681838e-02 -3.98904271e-02  6.04627468e-02\n",
      "  5.01998365e-02  3.76400165e-02  3.87362242e-02 -6.95317164e-02\n",
      " -5.72919622e-02 -7.93235749e-03 -4.59372997e-02 -5.45495264e-02\n",
      "  2.07682177e-02 -3.16606760e-02 -5.09714745e-02 -6.66265711e-02\n",
      " -5.68149984e-02 -1.11866752e-02 -1.17872059e-02  1.99796502e-02\n",
      " -6.13524616e-02 -6.16088102e-04 -9.55254585e-03  2.71406639e-02\n",
      "  3.77218127e-02  4.23314124e-02  7.94335231e-02  4.88524511e-02\n",
      " -2.04160288e-02 -6.60626963e-02 -3.83824036e-02  6.51584119e-02\n",
      "  2.67532878e-02  3.93210538e-02  6.96786121e-02  1.01972092e-02\n",
      " -2.09582970e-02 -4.37344238e-02 -2.25813570e-03 -9.04721953e-03\n",
      "  1.11170253e-02  2.09163465e-02 -3.58415917e-02  6.49461299e-02\n",
      " -2.47681607e-03 -1.67400166e-02 -4.89844270e-02  4.19358425e-02\n",
      "  5.37245125e-02  1.93934236e-02 -2.03150064e-02 -5.31051829e-02\n",
      "  2.83318851e-03 -4.90344092e-02 -2.92364098e-02 -1.78516470e-02\n",
      " -1.02844648e-02  3.08642145e-02  1.42381517e-02 -4.95554227e-03\n",
      " -3.00375260e-02  6.74526468e-02  9.19839963e-02  4.15429401e-33\n",
      "  4.98207249e-02 -1.27508894e-01 -8.28977600e-02  3.12776454e-02\n",
      " -6.13106750e-02 -6.18768157e-04 -5.46713546e-02 -3.03924568e-02\n",
      " -3.16133872e-02  2.48148125e-02 -5.81656843e-02 -3.48025672e-02\n",
      " -9.35661346e-02 -1.26321778e-01  3.80842872e-02 -4.38986942e-02\n",
      "  5.47373062e-03  1.65990312e-02 -3.32139283e-02  6.95787519e-02\n",
      " -1.61530953e-02 -6.04982860e-02  1.72628034e-02  4.46137786e-02\n",
      "  6.82296455e-02  5.69623597e-02  5.67333922e-02 -2.36624852e-02\n",
      " -4.86145467e-02  2.29245517e-02  8.08192343e-02 -3.34692188e-02\n",
      " -4.77343537e-02 -6.54025972e-02 -7.02066869e-02  2.11200695e-02\n",
      "  3.22853401e-02 -1.94113888e-02  7.28423223e-02 -4.19442579e-02\n",
      "  4.73910123e-02  1.74209084e-02  2.95284875e-02  4.47631590e-02\n",
      "  5.55509795e-03  4.72691767e-02  2.56066956e-02 -1.68625135e-02\n",
      "  9.61263943e-03 -4.91946079e-02  3.89467948e-03  4.06152420e-02\n",
      "  2.19388772e-02  7.74683431e-02 -4.40952741e-02  1.73102722e-01\n",
      "  2.76388824e-02 -1.49396621e-02  6.14549266e-04 -7.09320828e-02\n",
      "  5.19459806e-02  4.77842987e-02 -6.02957280e-03 -5.10216691e-02\n",
      "  6.29223287e-02  6.39446974e-02  1.77173223e-02  4.23021615e-02\n",
      " -2.18416639e-02 -5.75371496e-02 -2.37184186e-02 -4.11144011e-02\n",
      " -1.10836841e-01 -1.18762650e-01  7.76201412e-02 -3.26897018e-02\n",
      "  7.56906718e-02 -4.96875122e-02 -1.69072542e-02 -2.47035790e-02\n",
      " -4.68733087e-02  2.16234569e-02 -4.41880748e-02  4.92020212e-02\n",
      "  4.13070656e-02 -2.83520464e-02  8.09672177e-02  1.03431139e-02\n",
      "  1.96681153e-02  6.30203485e-02 -3.45293134e-02 -8.34073722e-02\n",
      "  3.38988714e-02  3.11709680e-02  5.65414131e-02 -5.30766777e-33\n",
      "  1.02718621e-01  1.34611716e-02  4.90714610e-02  1.05994940e-01\n",
      "  4.59478907e-02 -3.10310125e-02 -9.32732224e-02  1.26222461e-01\n",
      " -6.17686547e-02 -1.59291755e-02 -2.80574965e-03  8.70336592e-02\n",
      "  3.96073833e-02 -1.44666936e-02 -3.88861150e-02  5.93506768e-02\n",
      "  4.68532294e-02  3.13242804e-03 -3.98350246e-02 -9.64083001e-02\n",
      " -3.14048976e-02 -2.70173717e-02 -2.64218692e-02 -3.03139612e-02\n",
      " -8.83772001e-02  6.10291995e-02  1.92308296e-02 -5.40519021e-02\n",
      "  3.46272513e-02 -1.58620365e-02  1.02237901e-02 -4.48996201e-03\n",
      "  1.58978775e-02 -9.57299322e-02 -3.07213645e-02  2.20148582e-02\n",
      "  4.67881747e-02  4.46587423e-04 -2.89768055e-02  4.61043045e-02\n",
      "  2.55625267e-02  5.24908006e-02 -4.46963869e-02  5.70533378e-03\n",
      "  7.37619847e-02 -5.40454965e-03  9.87513363e-03  1.17367459e-02\n",
      "  5.48117310e-02 -2.10841410e-02  9.04709250e-02  5.39784916e-02\n",
      " -4.17648023e-03  2.23510042e-02 -7.64839537e-03 -1.14968583e-01\n",
      "  8.14988390e-02 -3.36242393e-02 -7.24173412e-02 -5.08937314e-02\n",
      " -1.07338421e-01  1.53522482e-02 -4.00443822e-02 -7.02101141e-02\n",
      " -3.11948936e-02  3.49992327e-02  3.27231102e-02  3.69857401e-02\n",
      " -1.54576860e-02 -4.75109555e-02  5.08402660e-02 -4.57054526e-02\n",
      " -4.32687253e-02  2.92994641e-02 -1.87127050e-02  3.99180278e-02\n",
      " -5.07728793e-02 -7.89091960e-02  7.36477971e-02 -4.98052500e-03\n",
      " -7.08051696e-02  1.21367395e-01  3.26170772e-02  9.17483792e-02\n",
      "  1.73245147e-02 -6.67916164e-02 -5.89647368e-02 -7.47503787e-02\n",
      "  4.91793528e-02  7.01223090e-02  2.17907056e-02 -8.43068510e-02\n",
      " -4.84084375e-02  1.84106138e-02  6.39388263e-02 -3.60953898e-08\n",
      " -1.37107326e-02  1.29874572e-01  3.29051130e-02  5.96256070e-02\n",
      "  3.79025303e-02 -1.65012665e-02 -2.90523306e-03  1.41091784e-02\n",
      "  5.57409152e-02 -4.86719236e-02  2.62503643e-02  8.46785605e-02\n",
      " -8.77792668e-03  3.87788634e-03  6.77364587e-04  1.18177698e-03\n",
      "  2.29686592e-02 -5.60697988e-02 -3.27284038e-02 -3.66299674e-02\n",
      "  3.71951498e-02 -3.46007757e-02  8.02404732e-02 -3.10350042e-02\n",
      " -1.13521725e-01 -4.08222489e-02 -2.04611979e-02  5.56104854e-02\n",
      "  3.36004794e-02  2.09612940e-02  1.94386058e-02  9.89210531e-02\n",
      " -9.21656098e-03 -6.24518935e-03 -4.42259014e-02 -3.37558314e-02\n",
      " -7.36880079e-02  1.36869550e-02  1.77448019e-02 -3.02989613e-02\n",
      " -6.04557171e-02 -9.79001150e-02 -1.22107808e-02  2.81395169e-05\n",
      " -5.88529147e-02  6.76156580e-02 -4.07045765e-04  5.07222228e-02\n",
      " -4.81798872e-03 -1.22571560e-02  3.69047634e-02  6.73619984e-03\n",
      " -9.99171170e-04  6.39134869e-02 -5.48159890e-02 -3.75878140e-02\n",
      " -2.23260373e-04 -5.12744524e-02  2.84884535e-02 -6.57866597e-02\n",
      "  6.82705827e-03 -6.73899129e-02 -8.18465799e-02 -1.33890789e-02]\n"
     ]
    }
   ],
   "source": [
    "# Try to convert notes to vector\n",
    "print(data[0]['notes'])\n",
    "print(encoder.encode(data[0]['notes']))"
   ]
  },
  {
   "cell_type": "code",
   "execution_count": 20,
   "id": "adefc16a-96cc-409f-9823-8c54add29a83",
   "metadata": {},
   "outputs": [
    {
     "data": {
      "text/plain": [
       "UpdateResult(operation_id=0, status=<UpdateStatus.COMPLETED: 'completed'>)"
      ]
     },
     "execution_count": 20,
     "metadata": {},
     "output_type": "execute_result"
    }
   ],
   "source": [
    "# vectorize!\n",
    "qdrant.upsert(\n",
    "    collection_name='top_wines',\n",
    "    points = [ models.PointStruct(id = idx,\n",
    "                                  vector = encoder.encode(doc['notes']).tolist(), \n",
    "                                  payload = doc\n",
    "                                 ) \n",
    "              for idx, doc in enumerate(data) ]\n",
    ")"
   ]
  },
  {
   "cell_type": "code",
   "execution_count": 27,
   "id": "80d6f0fb-0d90-4ada-b3b7-e765260479a3",
   "metadata": {},
   "outputs": [
    {
     "name": "stdout",
     "output_type": "stream",
     "text": [
      "{'name': 'Kapcsandy Family Winery State Lane Cabernet Sauvignon Grand Vin 2017', 'region': 'Yountville, Napa Valley, California', 'variety': 'Red Wine', 'rating': 96.0, 'notes': '100% Cabernet Sauvignon'} score: 0.7492028788117284\n",
      "\n",
      "\n",
      "{'name': 'Lewis Cellars Cabernet Sauvignon 2002', 'region': 'Napa Valley, California', 'variety': 'Red Wine', 'rating': 96.0, 'notes': 'Showcasing the unique personalities of small hillside vineyards from Pritchard Hill, Oakville and Rutherford, the 2002 Napa Valley Cabernet delivers compelling aromas of mocha, ripe berries, tobacco and sweet oak spice. The wine is 100% Cabernet Sauvignon, complex, rich and focused. With a deep core of black fruit and traces of briar and vanilla, it turns chocolaty and long on the palate with serious, integrated tannins.'} score: 0.7331373438014016\n",
      "\n",
      "\n",
      "{'name': 'Anakota Helena Montana Vineyard Cabernet Sauvignon 2013', 'region': 'Knights Valley, Sonoma County, California', 'variety': 'Red Wine', 'rating': 96.0, 'notes': 'Blend: 100% Cabernet Sauvignon'} score: 0.7289794572747305\n",
      "\n",
      "\n"
     ]
    }
   ],
   "source": [
    "# Searching\n",
    "\n",
    "results = qdrant.search(\n",
    "    collection_name='top_wines',\n",
    "    query_vector=encoder.encode(\"99 points Cabernet Sauvignon from Napa Valley\").tolist(),\n",
    "    limit=3\n",
    ")\n",
    "\n",
    "for result in results:\n",
    "    print(result.payload, 'score:',result.score)\n",
    "    print('\\n')"
   ]
  },
  {
   "cell_type": "code",
   "execution_count": 28,
   "id": "d2fd5fa4-fbdb-4dc3-8f77-06c71b128965",
   "metadata": {},
   "outputs": [
    {
     "name": "stdout",
     "output_type": "stream",
     "text": [
      "{'name': 'Catena Zapata Nicasia Vineyard Malbec 2004', 'region': 'Argentina', 'variety': 'Red Wine', 'rating': 96.0, 'notes': '\"The single-vineyard 2004 Malbec Nicasia Vineyard is located in the Altamira district of Mendoza. It was aged for 18 months in new French oak. Opaque purple-colored, it exhibits a complex perfume of pain grille, scorched earth, mineral, licorice, blueberry, and black cherry. Thick on the palate, bordering on opulent, it has layers of fruit, silky tannins, and a long, fruit-filled finish. It will age effortlessly for another 6-8 years and provide pleasure through 2025. When all is said and done, Catena Zapata is the Argentina winery of reference – the standard of excellence for comparing all others. The brilliant, forward-thinking Nicolas Catena remains in charge, with his daughter, Laura, playing an increasingly large role. The Catena Zapata winery is an essential destination for fans of both architecture and wine in Mendoza. It is hard to believe, given the surge in popularity of Malbec in recent years, that Catena Zapata only began exporting Malbec to the United States in 1994.\"'} score: 0.5854493229962429\n",
      "\n",
      "\n",
      "{'name': 'Catena Zapata Argentino Vineyard Malbec 2004', 'region': 'Argentina', 'variety': 'Red Wine', 'rating': 98.0, 'notes': '\"The single-vineyard 2004 Malbec Argentino Vineyard spent 17 months in new French oak. Remarkably fragrant and complex aromatically, it offers up aromas of wood smoke, creosote, pepper, clove, black cherry, and blackberry. Made in a similar, elegant style, it is the most structured of the three single vineyard wines, needing a minimum of a decade of additional cellaring. It should easily prove to be a 25-40 year wine. It is an exceptional achievement in Malbec. When all is said and done, Catena Zapata is the Argentina winery of reference – the standard of excellence for comparing all others. The brilliant, forward-thinking Nicolas Catena remains in charge, with his daughter, Laura, playing an increasingly large role. The Catena Zapata winery is an essential destination for fans of both architecture and wine in Mendoza. It is hard to believe, given the surge in popularity of Malbec in recent years, that Catena Zapata only began exporting Malbec to the United States in 1994.\"'} score: 0.581259415563964\n",
      "\n",
      "\n",
      "{'name': 'Jorge Ordonez Number 4 Esencia (375ML half-bottle) 2004', 'region': 'Spain', 'variety': 'Boutique', 'rating': 99.0, 'notes': 'Esencia is a unique wine that incorporates the raisined muscat grape.  After 24 months in barrel, we achieve a partial fermentation of the must.  Alois Kracher, through this wine, sought to convey the essence of the village of Almáchar, in the heart of the Axarquía, famous from time immemorial for its delicious muscat grapes and raisins.  '} score: 0.5802860558470424\n",
      "\n",
      "\n"
     ]
    }
   ],
   "source": [
    "# Another searching\n",
    "\n",
    "results = qdrant.search(\n",
    "    collection_name='top_wines',\n",
    "    query_vector=encoder.encode(\"A wine from Mendoza Argentina\").tolist(),\n",
    "    limit=3\n",
    ")\n",
    "\n",
    "for result in results:\n",
    "    print(result.payload, 'score:',result.score)\n",
    "    print('\\n')"
   ]
  },
  {
   "cell_type": "code",
   "execution_count": null,
   "id": "0474e524-0e46-45f5-829c-8d1445fc5cec",
   "metadata": {},
   "outputs": [],
   "source": []
  }
 ],
 "metadata": {
  "kernelspec": {
   "display_name": "Python 3 (ipykernel)",
   "language": "python",
   "name": "python3"
  },
  "language_info": {
   "codemirror_mode": {
    "name": "ipython",
    "version": 3
   },
   "file_extension": ".py",
   "mimetype": "text/x-python",
   "name": "python",
   "nbconvert_exporter": "python",
   "pygments_lexer": "ipython3",
   "version": "3.8.19"
  }
 },
 "nbformat": 4,
 "nbformat_minor": 5
}
